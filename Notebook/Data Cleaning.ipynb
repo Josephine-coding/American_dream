{
 "cells": [
  {
   "cell_type": "markdown",
   "metadata": {},
   "source": [
    "# Data cleaning - American dream"
   ]
  },
  {
   "cell_type": "code",
   "execution_count": 1,
   "metadata": {},
   "outputs": [],
   "source": [
    "#Modules\n",
    "import pandas as pd\n",
    "import sqlalchemy\n",
    "import mysql.connector\n",
    "\n",
    "\n",
    "import sys\n",
    "sys.path.insert(0, \"/home/apprenant/PycharmProjects/American_dream\")\n",
    "\n",
    "\n",
    "from src.d00_utils.mysql_func import mysql_connect, save_to_mysql\n",
    "connect = mysql_connect()"
   ]
  },
  {
   "cell_type": "markdown",
   "metadata": {},
   "source": [
    "## 1 - Importation des données"
   ]
  },
  {
   "cell_type": "code",
   "execution_count": 52,
   "metadata": {},
   "outputs": [],
   "source": [
    "df1 = pd.read_sql(\"survey_1\",con=connect)"
   ]
  },
  {
   "cell_type": "code",
   "execution_count": 67,
   "metadata": {},
   "outputs": [],
   "source": [
    "dfk = pd.read_sql(\"survey_k\",con=connect)"
   ]
  },
  {
   "cell_type": "markdown",
   "metadata": {},
   "source": [
    "## 2 - Sélection des colonnes"
   ]
  },
  {
   "cell_type": "markdown",
   "metadata": {},
   "source": [
    "### Database 1"
   ]
  },
  {
   "cell_type": "code",
   "execution_count": 4,
   "metadata": {},
   "outputs": [
    {
     "name": "stdout",
     "output_type": "stream",
     "text": [
      "   index  Survey Year           Timestamp  SalaryUSD        Country  \\\n",
      "0      0         2020 2020-01-04 18:50:34   115000.0  United States   \n",
      "1      1         2020 2020-01-04 10:43:02   100000.0  United States   \n",
      "2      2         2020 2020-01-04 09:51:46   100000.0          Spain   \n",
      "3      3         2020 2020-01-04 01:08:54    70000.0  United States   \n",
      "4      4         2020 2020-01-03 15:28:54   110000.0  United States   \n",
      "\n",
      "  PostalCode       PrimaryDatabase  YearsWithThisDatabase  \\\n",
      "0         03  Microsoft SQL Server                     15   \n",
      "1       None                 Other                      6   \n",
      "2      28046  Microsoft SQL Server                      2   \n",
      "3      94133  Microsoft SQL Server                      3   \n",
      "4      95354                Oracle                     30   \n",
      "\n",
      "                                      OtherDatabases    EmploymentStatus  ...  \\\n",
      "0  Microsoft SQL Server, MongoDB, Azure SQL DB (a...  Full time employee  ...   \n",
      "1                                      MySQL/MariaDB  Full time employee  ...   \n",
      "2                                      MySQL/MariaDB  Full time employee  ...   \n",
      "3                                   Microsoft Access  Full time employee  ...   \n",
      "4  Microsoft SQL Server, Oracle, MySQL/MariaDB, P...  Full time employee  ...   \n",
      "\n",
      "  NewestVersionInProduction OldestVersionInProduction  \\\n",
      "0           SQL Server 2019           SQL Server 2016   \n",
      "1                  informix                  informix   \n",
      "2           SQL Server 2017           SQL Server 2017   \n",
      "3           SQL Server 2016           SQL Server 2012   \n",
      "4           SQL Server 2016         SQL Server 2008R2   \n",
      "\n",
      "   PopulationOfLargestCityWithin20Miles  EmploymentSector  \\\n",
      "0                  20K-99K (large town)  Private business   \n",
      "1                      1M+ (metropolis)  Private business   \n",
      "2                      1M+ (metropolis)  Private business   \n",
      "3                      1M+ (metropolis)  Private business   \n",
      "4                      100K-299K (city)        Non-profit   \n",
      "\n",
      "  LookingForAnotherJob                     CareerPlansThisYear  Gender  \\\n",
      "0            Not Asked  Stay with the same employer, same role    Male   \n",
      "1            Not Asked                       Prefer not to say    Male   \n",
      "2            Not Asked  Stay with the same employer, same role    Male   \n",
      "3            Not Asked         Change both employers and roles    Male   \n",
      "4            Not Asked  Stay with the same employer, same role    Male   \n",
      "\n",
      "  OtherJobDuties KindsOfTasksPerformed Counter  \n",
      "0      Not Asked             Not Asked       1  \n",
      "1      Not Asked             Not Asked       1  \n",
      "2      Not Asked             Not Asked       1  \n",
      "3      Not Asked             Not Asked       1  \n",
      "4      Not Asked             Not Asked       1  \n",
      "\n",
      "[5 rows x 32 columns]\n"
     ]
    },
    {
     "data": {
      "text/plain": [
       "(8627, 32)"
      ]
     },
     "execution_count": 4,
     "metadata": {},
     "output_type": "execute_result"
    }
   ],
   "source": [
    "print(df1.head())\n",
    "df1.shape"
   ]
  },
  {
   "cell_type": "code",
   "execution_count": 5,
   "metadata": {},
   "outputs": [
    {
     "name": "stdout",
     "output_type": "stream",
     "text": [
      "Index(['index', 'Survey Year', 'Timestamp', 'SalaryUSD', 'Country',\n",
      "       'PostalCode', 'PrimaryDatabase', 'YearsWithThisDatabase',\n",
      "       'OtherDatabases', 'EmploymentStatus', 'JobTitle', 'ManageStaff',\n",
      "       'YearsWithThisTypeOfJob', 'HowManyCompanies', 'OtherPeopleOnYourTeam',\n",
      "       'CompanyEmployeesOverall', 'DatabaseServers', 'Education',\n",
      "       'EducationIsComputerRelated', 'Certifications', 'HoursWorkedPerWeek',\n",
      "       'TelecommuteDaysPerWeek', 'NewestVersionInProduction',\n",
      "       'OldestVersionInProduction', 'PopulationOfLargestCityWithin20Miles',\n",
      "       'EmploymentSector', 'LookingForAnotherJob', 'CareerPlansThisYear',\n",
      "       'Gender', 'OtherJobDuties', 'KindsOfTasksPerformed', 'Counter'],\n",
      "      dtype='object')\n"
     ]
    }
   ],
   "source": [
    "print(df1.columns)"
   ]
  },
  {
   "cell_type": "markdown",
   "metadata": {},
   "source": [
    "J'ai choisi les colonnes qui me semblaient utiles pour la visualisation des données."
   ]
  },
  {
   "cell_type": "code",
   "execution_count": 53,
   "metadata": {},
   "outputs": [],
   "source": [
    "df1=df1[['SalaryUSD', 'Country', 'PostalCode', 'EmploymentStatus', 'JobTitle', 'ManageStaff', 'YearsWithThisTypeOfJob', 'HowManyCompanies', 'OtherPeopleOnYourTeam', 'CompanyEmployeesOverall', 'EmploymentSector', 'LookingForAnotherJob', 'CareerPlansThisYear', 'Gender']]"
   ]
  },
  {
   "cell_type": "markdown",
   "metadata": {},
   "source": [
    "### Database 2"
   ]
  },
  {
   "cell_type": "code",
   "execution_count": 68,
   "metadata": {},
   "outputs": [
    {
     "name": "stdout",
     "output_type": "stream",
     "text": [
      "   index  Unnamed: 0                                          Job Title  \\\n",
      "0      0           0  Data Analyst, Center on Immigration and Justic...   \n",
      "1      1           1                               Quality Data Analyst   \n",
      "2      2           2  Senior Data Analyst, Insights & Analytics Team...   \n",
      "3      3           3                                       Data Analyst   \n",
      "4      4           4                             Reporting Data Analyst   \n",
      "\n",
      "              Salary Estimate  \\\n",
      "0  $37K-$66K (Glassdoor est.)   \n",
      "1  $37K-$66K (Glassdoor est.)   \n",
      "2  $37K-$66K (Glassdoor est.)   \n",
      "3  $37K-$66K (Glassdoor est.)   \n",
      "4  $37K-$66K (Glassdoor est.)   \n",
      "\n",
      "                                     Job Description  Rating  \\\n",
      "0  Are you eager to roll up your sleeves and harn...     3.2   \n",
      "1  Overview\\n\\nProvides analytical and technical ...     3.8   \n",
      "2  We’re looking for a Senior Data Analyst who ha...     3.4   \n",
      "3  Requisition NumberRR-0001939\\nRemote:Yes\\nWe c...     4.1   \n",
      "4  ABOUT FANDUEL GROUP\\n\\nFanDuel Group is a worl...     3.9   \n",
      "\n",
      "                              Company Name      Location  Headquarters  \\\n",
      "0           Vera Institute of Justice\\n3.2  New York, NY  New York, NY   \n",
      "1  Visiting Nurse Service of New York\\n3.8  New York, NY  New York, NY   \n",
      "2                         Squarespace\\n3.4  New York, NY  New York, NY   \n",
      "3                            Celerity\\n4.1  New York, NY    McLean, VA   \n",
      "4                             FanDuel\\n3.9  New York, NY  New York, NY   \n",
      "\n",
      "                     Size  Founded               Type of ownership  \\\n",
      "0    201 to 500 employees     1961          Nonprofit Organization   \n",
      "1        10000+ employees     1893          Nonprofit Organization   \n",
      "2  1001 to 5000 employees     2003               Company - Private   \n",
      "3    201 to 500 employees     2002  Subsidiary or Business Segment   \n",
      "4   501 to 1000 employees     2009               Company - Private   \n",
      "\n",
      "                           Industry                            Sector  \\\n",
      "0                 Social Assistance                        Non-Profit   \n",
      "1  Health Care Services & Hospitals                       Health Care   \n",
      "2                          Internet            Information Technology   \n",
      "3                       IT Services            Information Technology   \n",
      "4               Sports & Recreation  Arts, Entertainment & Recreation   \n",
      "\n",
      "                      Revenue Competitors Easy Apply  \n",
      "0  $100 to $500 million (USD)          -1       True  \n",
      "1      $2 to $5 billion (USD)          -1         -1  \n",
      "2    Unknown / Non-Applicable     GoDaddy         -1  \n",
      "3   $50 to $100 million (USD)          -1         -1  \n",
      "4  $100 to $500 million (USD)  DraftKings       True  \n"
     ]
    },
    {
     "data": {
      "text/plain": [
       "(2253, 17)"
      ]
     },
     "execution_count": 68,
     "metadata": {},
     "output_type": "execute_result"
    }
   ],
   "source": [
    "print(dfk.head())\n",
    "dfk.shape"
   ]
  },
  {
   "cell_type": "code",
   "execution_count": 69,
   "metadata": {},
   "outputs": [
    {
     "name": "stdout",
     "output_type": "stream",
     "text": [
      "Index(['index', 'Unnamed: 0', 'Job Title', 'Salary Estimate',\n",
      "       'Job Description', 'Rating', 'Company Name', 'Location', 'Headquarters',\n",
      "       'Size', 'Founded', 'Type of ownership', 'Industry', 'Sector', 'Revenue',\n",
      "       'Competitors', 'Easy Apply'],\n",
      "      dtype='object')\n"
     ]
    }
   ],
   "source": [
    "print(dfk.columns)"
   ]
  },
  {
   "cell_type": "markdown",
   "metadata": {},
   "source": [
    "J'ai ensuite choisi les colonnes qui semblaient utiles pour la suite."
   ]
  },
  {
   "cell_type": "code",
   "execution_count": 70,
   "metadata": {},
   "outputs": [],
   "source": [
    "dfk=dfk[['Job Title', 'Salary Estimate', 'Company Name', 'Location', 'Size', 'Sector']]"
   ]
  },
  {
   "cell_type": "markdown",
   "metadata": {},
   "source": [
    "## 3 - Valeurs manquantes"
   ]
  },
  {
   "cell_type": "markdown",
   "metadata": {},
   "source": [
    "### Database 1"
   ]
  },
  {
   "cell_type": "code",
   "execution_count": 54,
   "metadata": {},
   "outputs": [
    {
     "name": "stdout",
     "output_type": "stream",
     "text": [
      "SalaryUSD                     0\n",
      "Country                       0\n",
      "PostalCode                 1390\n",
      "EmploymentStatus              0\n",
      "JobTitle                      0\n",
      "ManageStaff                   0\n",
      "YearsWithThisTypeOfJob        0\n",
      "HowManyCompanies              0\n",
      "OtherPeopleOnYourTeam         0\n",
      "CompanyEmployeesOverall       0\n",
      "EmploymentSector              0\n",
      "LookingForAnotherJob          0\n",
      "CareerPlansThisYear           0\n",
      "Gender                        0\n",
      "dtype: int64\n"
     ]
    }
   ],
   "source": [
    "missing_values_count = df1.isnull().sum()\n",
    "print(missing_values_count)"
   ]
  },
  {
   "cell_type": "markdown",
   "metadata": {},
   "source": [
    "Il manque 1390 valeurs pour PostalCode. On ne peut pas assigner de valeur de code postal arbitraire dans cette colonne. Je garde donc les lignes où les valeurs sont manquantes, mais je garde en mémoire qu'il manque des valeurs si je travaille sur les codes postaux."
   ]
  },
  {
   "cell_type": "markdown",
   "metadata": {},
   "source": [
    "### Database 2"
   ]
  },
  {
   "cell_type": "code",
   "execution_count": 71,
   "metadata": {},
   "outputs": [
    {
     "name": "stdout",
     "output_type": "stream",
     "text": [
      "Job Title          0\n",
      "Salary Estimate    0\n",
      "Company Name       1\n",
      "Location           0\n",
      "Size               0\n",
      "Sector             0\n",
      "dtype: int64\n"
     ]
    }
   ],
   "source": [
    "print(dfk.isnull().sum())"
   ]
  },
  {
   "cell_type": "markdown",
   "metadata": {},
   "source": [
    "Il y a une seule valeur manquante pour 'Company Name'.\n",
    "J'ai choisi de la remplacer par 'Unknown'"
   ]
  },
  {
   "cell_type": "code",
   "execution_count": 74,
   "metadata": {},
   "outputs": [],
   "source": [
    "dfk.loc[dfk['Company Name'].isnull(), \"Company Name\"] = \"Unknown\""
   ]
  },
  {
   "cell_type": "code",
   "execution_count": 75,
   "metadata": {},
   "outputs": [
    {
     "name": "stdout",
     "output_type": "stream",
     "text": [
      "Job Title          0\n",
      "Salary Estimate    0\n",
      "Company Name       0\n",
      "Location           0\n",
      "Size               0\n",
      "Sector             0\n",
      "dtype: int64\n"
     ]
    }
   ],
   "source": [
    "print(dfk.isnull().sum())"
   ]
  },
  {
   "cell_type": "markdown",
   "metadata": {},
   "source": [
    "## 4 - Colonnes à transformer en datetime"
   ]
  },
  {
   "cell_type": "markdown",
   "metadata": {},
   "source": [
    "### Database 1"
   ]
  },
  {
   "cell_type": "code",
   "execution_count": 55,
   "metadata": {},
   "outputs": [
    {
     "name": "stdout",
     "output_type": "stream",
     "text": [
      "SalaryUSD                  float64\n",
      "Country                     object\n",
      "PostalCode                  object\n",
      "EmploymentStatus            object\n",
      "JobTitle                    object\n",
      "ManageStaff                 object\n",
      "YearsWithThisTypeOfJob       int64\n",
      "HowManyCompanies            object\n",
      "OtherPeopleOnYourTeam       object\n",
      "CompanyEmployeesOverall     object\n",
      "EmploymentSector            object\n",
      "LookingForAnotherJob        object\n",
      "CareerPlansThisYear         object\n",
      "Gender                      object\n",
      "dtype: object\n"
     ]
    }
   ],
   "source": [
    "print(df1.dtypes)"
   ]
  },
  {
   "cell_type": "markdown",
   "metadata": {},
   "source": [
    "Aucune de mes colonnes ne correspond à une date."
   ]
  },
  {
   "cell_type": "markdown",
   "metadata": {},
   "source": [
    "### Database 2"
   ]
  },
  {
   "cell_type": "code",
   "execution_count": 76,
   "metadata": {},
   "outputs": [
    {
     "name": "stdout",
     "output_type": "stream",
     "text": [
      "Job Title          object\n",
      "Salary Estimate    object\n",
      "Company Name       object\n",
      "Location           object\n",
      "Size               object\n",
      "Sector             object\n",
      "dtype: object\n"
     ]
    }
   ],
   "source": [
    "print(dfk.dtypes)"
   ]
  },
  {
   "cell_type": "markdown",
   "metadata": {},
   "source": [
    "Aucune de mes colonnes ne correspond à une date."
   ]
  },
  {
   "cell_type": "markdown",
   "metadata": {},
   "source": [
    "## 5 - Doublons"
   ]
  },
  {
   "cell_type": "markdown",
   "metadata": {},
   "source": [
    "### Database 1"
   ]
  },
  {
   "cell_type": "code",
   "execution_count": 56,
   "metadata": {},
   "outputs": [
    {
     "name": "stdout",
     "output_type": "stream",
     "text": [
      "False    8558\n",
      "True       69\n",
      "dtype: int64\n"
     ]
    }
   ],
   "source": [
    "print(df1.duplicated().value_counts())"
   ]
  },
  {
   "cell_type": "markdown",
   "metadata": {},
   "source": [
    "Il y a 69 doublons dans notre jeu de données.\n",
    "J'ai choisi de les supprimer."
   ]
  },
  {
   "cell_type": "code",
   "execution_count": 57,
   "metadata": {},
   "outputs": [],
   "source": [
    "df1=df1.drop_duplicates()"
   ]
  },
  {
   "cell_type": "code",
   "execution_count": 58,
   "metadata": {},
   "outputs": [
    {
     "name": "stdout",
     "output_type": "stream",
     "text": [
      "(8558, 14)\n"
     ]
    }
   ],
   "source": [
    "print(df1.shape)"
   ]
  },
  {
   "cell_type": "markdown",
   "metadata": {},
   "source": [
    "### Database 2"
   ]
  },
  {
   "cell_type": "code",
   "execution_count": 77,
   "metadata": {},
   "outputs": [
    {
     "name": "stdout",
     "output_type": "stream",
     "text": [
      "False    2253\n",
      "dtype: int64\n"
     ]
    }
   ],
   "source": [
    "print(dfk.duplicated().value_counts())"
   ]
  },
  {
   "cell_type": "markdown",
   "metadata": {},
   "source": [
    "Cette database ne semble pas avoir de doublons."
   ]
  },
  {
   "cell_type": "markdown",
   "metadata": {},
   "source": [
    "## 6 - Vérifier la consistence des données"
   ]
  },
  {
   "cell_type": "markdown",
   "metadata": {},
   "source": [
    "### Database 1"
   ]
  },
  {
   "cell_type": "markdown",
   "metadata": {},
   "source": [
    "#### get all the unique values in the 'Country' column"
   ]
  },
  {
   "cell_type": "code",
   "execution_count": 59,
   "metadata": {},
   "outputs": [
    {
     "name": "stdout",
     "output_type": "stream",
     "text": [
      "93\n"
     ]
    }
   ],
   "source": [
    "countries = df1['Country'].unique()\n",
    "print(len(countries))"
   ]
  },
  {
   "cell_type": "code",
   "execution_count": 15,
   "metadata": {},
   "outputs": [
    {
     "name": "stdout",
     "output_type": "stream",
     "text": [
      "['Albania' 'Anguilla' 'Argentina' 'Armenia' 'Australia' 'Austria'\n",
      " 'Bahrain' 'Belarus' 'Belgium' 'Bermuda' 'Bolivia' 'Brazil' 'Bulgaria'\n",
      " 'Canada' 'Cayman Islands' 'China' 'Colombia' 'Costa Rica' 'Croatia'\n",
      " 'Czech Republic' 'Denmark' 'Dominican Republic' 'Ecuador' 'El Salvador'\n",
      " 'Estonia' 'Finland' 'France' 'Georgia' 'Germany' 'Ghana' 'Greece'\n",
      " 'Guatemala' 'Guernsey' 'Hong Kong' 'Hungary' 'Iceland' 'India'\n",
      " 'Indonesia' 'Iran' 'Ireland' 'Israel' 'Italy' 'Jamaica' 'Jersey' 'Jordan'\n",
      " 'Kenya' 'Latvia' 'Lithuania' 'Luxembourg' 'Macedonia' 'Malaysia'\n",
      " 'Maldives' 'Malta' 'Mexico' 'Moldova' 'Nepal' 'Netherlands' 'New Zealand'\n",
      " 'Nicaragua' 'Norway' 'Pakistan' 'Paraguay' 'Peru' 'Philippines' 'Poland'\n",
      " 'Portugal' 'Puerto Rico' 'Qatar' 'Romania' 'Russia' 'Saudi Arabia'\n",
      " 'Serbia and Montenegro' 'Singapore' 'Slovakia' 'Slovenia' 'South Africa'\n",
      " 'Spain' 'Swaziland' 'Sweden' 'Switzerland' 'Syria' 'Taiwan' 'Thailand'\n",
      " 'Turkey' 'Uganda' 'Ukraine' 'United Arab Emirates' 'United Kingdom'\n",
      " 'United States' 'Uruguay' 'Vanuatu' 'Venezuela' 'Vietnam']\n"
     ]
    }
   ],
   "source": [
    "countries.sort()\n",
    "print(countries)"
   ]
  },
  {
   "cell_type": "markdown",
   "metadata": {},
   "source": [
    "Les noms de pays ne présentent pas de faute de frappe."
   ]
  },
  {
   "cell_type": "markdown",
   "metadata": {},
   "source": [
    "#### get all the unique values in the 'JobTitle' column"
   ]
  },
  {
   "cell_type": "code",
   "execution_count": 60,
   "metadata": {},
   "outputs": [
    {
     "name": "stdout",
     "output_type": "stream",
     "text": [
      "23\n"
     ]
    }
   ],
   "source": [
    "job_titles = df1['JobTitle'].unique()\n",
    "print(len(job_titles))"
   ]
  },
  {
   "cell_type": "code",
   "execution_count": 16,
   "metadata": {},
   "outputs": [
    {
     "name": "stdout",
     "output_type": "stream",
     "text": [
      "['Analyst' 'Analytics consultant' 'Architect' 'Consultant' 'DBA'\n",
      " 'DBA (Development Focus - tunes queries, indexes, does deployments)'\n",
      " 'DBA (General - splits time evenly between writing & tuning queries AND building & troubleshooting servers)'\n",
      " 'DBA (Production Focus - build & troubleshoot servers, HA/DR)'\n",
      " 'DBA / BI Developer' 'Data Scientist' 'Database Specialist'\n",
      " 'DevOps, Sr Software Engineer DBA' 'Developer: App code (C#, JS, etc)'\n",
      " 'Developer: Business Intelligence (SSRS, PowerBI, etc)'\n",
      " 'Developer: T-SQL' 'Engineer' 'Manager' 'Other'\n",
      " 'Principal database engineer' 'Sales' 'Sr Consultant '\n",
      " 'Systems Administrator' 'Technician ']\n"
     ]
    }
   ],
   "source": [
    "job_titles.sort()\n",
    "print(job_titles)"
   ]
  },
  {
   "cell_type": "markdown",
   "metadata": {},
   "source": [
    "Il y a 23 job titles différents."
   ]
  },
  {
   "cell_type": "markdown",
   "metadata": {},
   "source": [
    "#### get all the unique values in 'HowManyCompanies' column"
   ]
  },
  {
   "cell_type": "code",
   "execution_count": 18,
   "metadata": {},
   "outputs": [
    {
     "name": "stdout",
     "output_type": "stream",
     "text": [
      "7\n"
     ]
    }
   ],
   "source": [
    "nb_companies = df1['HowManyCompanies'].unique()\n",
    "print(len(nb_companies))"
   ]
  },
  {
   "cell_type": "code",
   "execution_count": 22,
   "metadata": {},
   "outputs": [
    {
     "name": "stdout",
     "output_type": "stream",
     "text": [
      "[\"1 (this is the only company where I've had this kind of position)\"\n",
      " '2 (I worked at another similar position elsewhere before this one)' '3'\n",
      " '4' '5' '6 or more' 'Not Asked']\n"
     ]
    }
   ],
   "source": [
    "nb_companies.sort()\n",
    "print(nb_companies)"
   ]
  },
  {
   "cell_type": "markdown",
   "metadata": {},
   "source": [
    "Les valeurs pour HowManyCompanies sont classées dans 7 catégories. Il n'y a pas de catégorie redondante. "
   ]
  },
  {
   "cell_type": "markdown",
   "metadata": {},
   "source": [
    "#### get all the unique values in the 'OtherPeopleOnYourTeam' column"
   ]
  },
  {
   "cell_type": "code",
   "execution_count": 20,
   "metadata": {},
   "outputs": [
    {
     "name": "stdout",
     "output_type": "stream",
     "text": [
      "7\n"
     ]
    }
   ],
   "source": [
    "team = df1['OtherPeopleOnYourTeam'].unique()\n",
    "print(len(team))"
   ]
  },
  {
   "cell_type": "code",
   "execution_count": 23,
   "metadata": {},
   "outputs": [
    {
     "name": "stdout",
     "output_type": "stream",
     "text": [
      "['1' '2' '3' '4' '5' 'More than 5' 'None']\n"
     ]
    }
   ],
   "source": [
    "team.sort()\n",
    "print(team)"
   ]
  },
  {
   "cell_type": "markdown",
   "metadata": {},
   "source": [
    "Les valeurs pour OtherPeopleOnYourTeam sont classées dans 7 catégories. Il n'y a pas de catégorie redondante. "
   ]
  },
  {
   "cell_type": "markdown",
   "metadata": {},
   "source": [
    "#### get all the unique values in the 'Gender' column"
   ]
  },
  {
   "cell_type": "code",
   "execution_count": 61,
   "metadata": {},
   "outputs": [
    {
     "name": "stdout",
     "output_type": "stream",
     "text": [
      "32\n"
     ]
    }
   ],
   "source": [
    "genders = df1['Gender'].unique()\n",
    "print(len(genders))"
   ]
  },
  {
   "cell_type": "markdown",
   "metadata": {},
   "source": [
    "Il semble y avoir beaucoup de réponses différentes dans la colonne 'Gender"
   ]
  },
  {
   "cell_type": "code",
   "execution_count": 62,
   "metadata": {},
   "outputs": [
    {
     "name": "stdout",
     "output_type": "stream",
     "text": [
      "['Alien' 'Always On Cluster' 'Any human one' 'Apache Helicopter'\n",
      " 'Attack Helicopter' 'Attack Helicopter (M)'\n",
      " 'Attack Helicopter. (serious dude, gender questions?)'\n",
      " 'Attack helicopter'\n",
      " 'Attackhelicopter with rabbitears and afro-icelandic teeth' 'Cyborg'\n",
      " 'Dalek' 'Database Administrator' 'Dragon' 'Female' 'Grayson Perry'\n",
      " 'I am Batman' 'Lizzard' 'Male' 'Meat Popsicle ' 'Muppet'\n",
      " 'Non-binary/third gender' 'Not Asked' 'Pastafarian' 'Prefer not to say'\n",
      " 'Reptilian'\n",
      " 'There are only two genders for people, either male or female. I am a male.'\n",
      " 'This question is inappropriate. ' 'Vulcan' 'confused'\n",
      " 'human  This is also my race.' 'mosquito ' 'toad frog']\n"
     ]
    }
   ],
   "source": [
    "genders.sort()\n",
    "print(genders)"
   ]
  },
  {
   "cell_type": "code",
   "execution_count": 63,
   "metadata": {},
   "outputs": [
    {
     "name": "stdout",
     "output_type": "stream",
     "text": [
      "Male                                                                          5039\n",
      "Not Asked                                                                     2863\n",
      "Female                                                                         553\n",
      "Prefer not to say                                                               59\n",
      "Non-binary/third gender                                                         15\n",
      "Attack helicopter                                                                2\n",
      "Attack Helicopter                                                                2\n",
      "Apache Helicopter                                                                1\n",
      "confused                                                                         1\n",
      "Cyborg                                                                           1\n",
      "This question is inappropriate.                                                  1\n",
      "human  This is also my race.                                                     1\n",
      "toad frog                                                                        1\n",
      "mosquito                                                                         1\n",
      "Dalek                                                                            1\n",
      "Database Administrator                                                           1\n",
      "Muppet                                                                           1\n",
      "Vulcan                                                                           1\n",
      "Alien                                                                            1\n",
      "Attackhelicopter with rabbitears and afro-icelandic teeth                        1\n",
      "Attack Helicopter (M)                                                            1\n",
      "Any human one                                                                    1\n",
      "I am Batman                                                                      1\n",
      "Lizzard                                                                          1\n",
      "Grayson Perry                                                                    1\n",
      "Always On Cluster                                                                1\n",
      "Dragon                                                                           1\n",
      "Meat Popsicle                                                                    1\n",
      "Reptilian                                                                        1\n",
      "Pastafarian                                                                      1\n",
      "There are only two genders for people, either male or female. I am a male.       1\n",
      "Attack Helicopter. (serious dude, gender questions?)                             1\n",
      "Name: Gender, dtype: int64\n"
     ]
    }
   ],
   "source": [
    "print(df1['Gender'].value_counts())"
   ]
  },
  {
   "cell_type": "markdown",
   "metadata": {},
   "source": [
    "Sur la totalité des réponses dans la colonne Genre, on préférerait pouvoir les classer en 5 catégories : Male, Female, Non-binary/third gender, Prefer not to say et Not Asked.\n",
    "Il y a donc 29 réponses à modifier."
   ]
  },
  {
   "cell_type": "code",
   "execution_count": 64,
   "metadata": {},
   "outputs": [],
   "source": [
    "valid_genders = [\"Male\", \"Female\", \"Not Asked\", \"Prefer not to say\", \"Non-binary/third gender\"]\n",
    "df1.loc[~df1['Gender'].isin(valid_genders), \"Gender\"] = \"other\""
   ]
  },
  {
   "cell_type": "code",
   "execution_count": 65,
   "metadata": {},
   "outputs": [
    {
     "name": "stdout",
     "output_type": "stream",
     "text": [
      "Male                       5039\n",
      "Not Asked                  2863\n",
      "Female                      553\n",
      "Prefer not to say            59\n",
      "other                        29\n",
      "Non-binary/third gender      15\n",
      "Name: Gender, dtype: int64\n"
     ]
    }
   ],
   "source": [
    "print(df1['Gender'].value_counts())"
   ]
  },
  {
   "cell_type": "markdown",
   "metadata": {},
   "source": [
    "### Database 2"
   ]
  },
  {
   "cell_type": "code",
   "execution_count": 79,
   "metadata": {},
   "outputs": [
    {
     "name": "stdout",
     "output_type": "stream",
     "text": [
      "1272\n"
     ]
    }
   ],
   "source": [
    "titles = dfk['Job Title'].unique()\n",
    "print(len(titles))"
   ]
  },
  {
   "cell_type": "code",
   "execution_count": 80,
   "metadata": {},
   "outputs": [
    {
     "name": "stdout",
     "output_type": "stream",
     "text": [
      "90\n"
     ]
    }
   ],
   "source": [
    "print(len(dfk['Salary Estimate'].unique()))"
   ]
  },
  {
   "cell_type": "markdown",
   "metadata": {},
   "source": [
    "## 7 - Recherche de valeurs aberrantes"
   ]
  },
  {
   "cell_type": "markdown",
   "metadata": {},
   "source": [
    "### Database 1"
   ]
  },
  {
   "cell_type": "code",
   "execution_count": 31,
   "metadata": {},
   "outputs": [
    {
     "name": "stdout",
     "output_type": "stream",
     "text": [
      "count    8.627000e+03\n",
      "mean     9.394615e+04\n",
      "std      5.998446e+04\n",
      "min      0.000000e+00\n",
      "25%      6.500000e+04\n",
      "50%      9.000000e+04\n",
      "75%      1.150000e+05\n",
      "max      1.850000e+06\n",
      "Name: SalaryUSD, dtype: float64\n"
     ]
    }
   ],
   "source": [
    "print(df1.SalaryUSD.describe())"
   ]
  },
  {
   "cell_type": "code",
   "execution_count": 32,
   "metadata": {},
   "outputs": [
    {
     "name": "stdout",
     "output_type": "stream",
     "text": [
      "count    8627.000000\n",
      "mean        7.544453\n",
      "std         6.541186\n",
      "min         0.000000\n",
      "25%         3.000000\n",
      "50%         5.000000\n",
      "75%        10.000000\n",
      "max        45.000000\n",
      "Name: YearsWithThisTypeOfJob, dtype: float64\n"
     ]
    }
   ],
   "source": [
    "print(df1.YearsWithThisTypeOfJob.describe())"
   ]
  },
  {
   "cell_type": "markdown",
   "metadata": {},
   "source": [
    "Il semble ne pas y avoir de valeurs aberrantes."
   ]
  },
  {
   "cell_type": "markdown",
   "metadata": {},
   "source": [
    "### Database 2"
   ]
  },
  {
   "cell_type": "code",
   "execution_count": null,
   "metadata": {},
   "outputs": [],
   "source": []
  },
  {
   "cell_type": "markdown",
   "metadata": {},
   "source": [
    "### Sauvegarde des databases dans mysql"
   ]
  },
  {
   "cell_type": "code",
   "execution_count": 66,
   "metadata": {},
   "outputs": [],
   "source": [
    "save_to_mysql(db_connect=connect,df_to_save=df1,df_name='survey_1_v1.0')"
   ]
  },
  {
   "cell_type": "code",
   "execution_count": null,
   "metadata": {},
   "outputs": [],
   "source": []
  }
 ],
 "metadata": {
  "kernelspec": {
   "display_name": "Python 3",
   "language": "python",
   "name": "python3"
  },
  "language_info": {
   "codemirror_mode": {
    "name": "ipython",
    "version": 3
   },
   "file_extension": ".py",
   "mimetype": "text/x-python",
   "name": "python",
   "nbconvert_exporter": "python",
   "pygments_lexer": "ipython3",
   "version": "3.8.5"
  }
 },
 "nbformat": 4,
 "nbformat_minor": 4
}
