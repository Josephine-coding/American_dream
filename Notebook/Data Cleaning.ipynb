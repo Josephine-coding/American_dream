{
 "cells": [
  {
   "cell_type": "markdown",
   "metadata": {},
   "source": [
    "# Data cleaning - American dream"
   ]
  },
  {
   "cell_type": "code",
   "execution_count": 1,
   "metadata": {},
   "outputs": [],
   "source": [
    "#Modules\n",
    "import pandas as pd\n",
    "import sqlalchemy\n",
    "import mysql.connector\n",
    "\n",
    "\n",
    "import sys\n",
    "sys.path.insert(0, \"/home/apprenant/PycharmProjects/American_dream\")\n",
    "\n",
    "\n",
    "from src.d00_utils.mysql_func import mysql_connect, save_to_mysql\n",
    "connect = mysql_connect()"
   ]
  },
  {
   "cell_type": "markdown",
   "metadata": {},
   "source": [
    "## 1 - Importation des données"
   ]
  },
  {
   "cell_type": "code",
   "execution_count": 26,
   "metadata": {},
   "outputs": [],
   "source": [
    "df1 = pd.read_sql(\"survey_1\",con=connect)"
   ]
  },
  {
   "cell_type": "code",
   "execution_count": 67,
   "metadata": {},
   "outputs": [],
   "source": [
    "dfk = pd.read_sql(\"survey_k\",con=connect)"
   ]
  },
  {
   "cell_type": "markdown",
   "metadata": {},
   "source": [
    "## Modifications"
   ]
  },
  {
   "cell_type": "markdown",
   "metadata": {},
   "source": [
    "### Vérifications des doublons"
   ]
  },
  {
   "cell_type": "code",
   "execution_count": 27,
   "metadata": {},
   "outputs": [
    {
     "name": "stdout",
     "output_type": "stream",
     "text": [
      "False    8627\n",
      "dtype: int64\n"
     ]
    }
   ],
   "source": [
    "print(df1.duplicated().value_counts())"
   ]
  },
  {
   "cell_type": "code",
   "execution_count": 28,
   "metadata": {},
   "outputs": [
    {
     "data": {
      "text/plain": [
       "(8627, 32)"
      ]
     },
     "execution_count": 28,
     "metadata": {},
     "output_type": "execute_result"
    }
   ],
   "source": [
    "df1.shape"
   ]
  },
  {
   "cell_type": "code",
   "execution_count": 29,
   "metadata": {},
   "outputs": [],
   "source": [
    "df1 = df1.drop(['index'], axis=1)"
   ]
  },
  {
   "cell_type": "code",
   "execution_count": 30,
   "metadata": {},
   "outputs": [
    {
     "name": "stdout",
     "output_type": "stream",
     "text": [
      "0       False\n",
      "1       False\n",
      "2       False\n",
      "3       False\n",
      "4       False\n",
      "        ...  \n",
      "8622    False\n",
      "8623    False\n",
      "8624    False\n",
      "8625    False\n",
      "8626    False\n",
      "Length: 8627, dtype: bool\n"
     ]
    }
   ],
   "source": [
    "print(df1.duplicated(subset=df1.columns.difference(['Timestamp'])))"
   ]
  },
  {
   "cell_type": "code",
   "execution_count": 31,
   "metadata": {},
   "outputs": [],
   "source": [
    "duplicated_rows = df1[df1.duplicated(subset = df1.columns.difference(['Timestamp']), keep=False)]"
   ]
  },
  {
   "cell_type": "code",
   "execution_count": 35,
   "metadata": {},
   "outputs": [
    {
     "data": {
      "text/html": [
       "<div>\n",
       "<style scoped>\n",
       "    .dataframe tbody tr th:only-of-type {\n",
       "        vertical-align: middle;\n",
       "    }\n",
       "\n",
       "    .dataframe tbody tr th {\n",
       "        vertical-align: top;\n",
       "    }\n",
       "\n",
       "    .dataframe thead th {\n",
       "        text-align: right;\n",
       "    }\n",
       "</style>\n",
       "<table border=\"1\" class=\"dataframe\">\n",
       "  <thead>\n",
       "    <tr style=\"text-align: right;\">\n",
       "      <th></th>\n",
       "      <th>Survey Year</th>\n",
       "      <th>Timestamp</th>\n",
       "      <th>SalaryUSD</th>\n",
       "      <th>Country</th>\n",
       "      <th>PostalCode</th>\n",
       "      <th>PrimaryDatabase</th>\n",
       "      <th>YearsWithThisDatabase</th>\n",
       "      <th>OtherDatabases</th>\n",
       "      <th>EmploymentStatus</th>\n",
       "      <th>JobTitle</th>\n",
       "      <th>...</th>\n",
       "      <th>NewestVersionInProduction</th>\n",
       "      <th>OldestVersionInProduction</th>\n",
       "      <th>PopulationOfLargestCityWithin20Miles</th>\n",
       "      <th>EmploymentSector</th>\n",
       "      <th>LookingForAnotherJob</th>\n",
       "      <th>CareerPlansThisYear</th>\n",
       "      <th>Gender</th>\n",
       "      <th>OtherJobDuties</th>\n",
       "      <th>KindsOfTasksPerformed</th>\n",
       "      <th>Counter</th>\n",
       "    </tr>\n",
       "  </thead>\n",
       "  <tbody>\n",
       "    <tr>\n",
       "      <th>52</th>\n",
       "      <td>2020</td>\n",
       "      <td>2019-12-31 01:57:49</td>\n",
       "      <td>148000.0</td>\n",
       "      <td>United States</td>\n",
       "      <td>60642</td>\n",
       "      <td>Cassandra</td>\n",
       "      <td>5</td>\n",
       "      <td>PostgreSQL, Cassandra, Google BigQuery</td>\n",
       "      <td>Full time employee</td>\n",
       "      <td>Data Scientist</td>\n",
       "      <td>...</td>\n",
       "      <td>we don't use these tech</td>\n",
       "      <td>we don't use these tech</td>\n",
       "      <td>1M+ (metropolis)</td>\n",
       "      <td>Private business</td>\n",
       "      <td>Not Asked</td>\n",
       "      <td>Stay with the same employer,  but change roles</td>\n",
       "      <td>Female</td>\n",
       "      <td>Not Asked</td>\n",
       "      <td>Not Asked</td>\n",
       "      <td>1</td>\n",
       "    </tr>\n",
       "    <tr>\n",
       "      <th>53</th>\n",
       "      <td>2020</td>\n",
       "      <td>2019-12-31 01:57:38</td>\n",
       "      <td>148000.0</td>\n",
       "      <td>United States</td>\n",
       "      <td>60642</td>\n",
       "      <td>Cassandra</td>\n",
       "      <td>5</td>\n",
       "      <td>PostgreSQL, Cassandra, Google BigQuery</td>\n",
       "      <td>Full time employee</td>\n",
       "      <td>Data Scientist</td>\n",
       "      <td>...</td>\n",
       "      <td>we don't use these tech</td>\n",
       "      <td>we don't use these tech</td>\n",
       "      <td>1M+ (metropolis)</td>\n",
       "      <td>Private business</td>\n",
       "      <td>Not Asked</td>\n",
       "      <td>Stay with the same employer,  but change roles</td>\n",
       "      <td>Female</td>\n",
       "      <td>Not Asked</td>\n",
       "      <td>Not Asked</td>\n",
       "      <td>1</td>\n",
       "    </tr>\n",
       "    <tr>\n",
       "      <th>62</th>\n",
       "      <td>2020</td>\n",
       "      <td>2019-12-31 00:08:37</td>\n",
       "      <td>100000.0</td>\n",
       "      <td>Canada</td>\n",
       "      <td>None</td>\n",
       "      <td>Microsoft SQL Server</td>\n",
       "      <td>7</td>\n",
       "      <td>None</td>\n",
       "      <td>Full time employee</td>\n",
       "      <td>Analyst</td>\n",
       "      <td>...</td>\n",
       "      <td>SQL Server 2014</td>\n",
       "      <td>SQL Server 2008R2</td>\n",
       "      <td>1M+ (metropolis)</td>\n",
       "      <td>Private business</td>\n",
       "      <td>Not Asked</td>\n",
       "      <td>Stay with the same employer, same role</td>\n",
       "      <td>Male</td>\n",
       "      <td>Not Asked</td>\n",
       "      <td>Not Asked</td>\n",
       "      <td>1</td>\n",
       "    </tr>\n",
       "    <tr>\n",
       "      <th>64</th>\n",
       "      <td>2020</td>\n",
       "      <td>2019-12-31 00:01:44</td>\n",
       "      <td>100000.0</td>\n",
       "      <td>Canada</td>\n",
       "      <td>None</td>\n",
       "      <td>Microsoft SQL Server</td>\n",
       "      <td>7</td>\n",
       "      <td>None</td>\n",
       "      <td>Full time employee</td>\n",
       "      <td>Analyst</td>\n",
       "      <td>...</td>\n",
       "      <td>SQL Server 2014</td>\n",
       "      <td>SQL Server 2008R2</td>\n",
       "      <td>1M+ (metropolis)</td>\n",
       "      <td>Private business</td>\n",
       "      <td>Not Asked</td>\n",
       "      <td>Stay with the same employer, same role</td>\n",
       "      <td>Male</td>\n",
       "      <td>Not Asked</td>\n",
       "      <td>Not Asked</td>\n",
       "      <td>1</td>\n",
       "    </tr>\n",
       "    <tr>\n",
       "      <th>144</th>\n",
       "      <td>2020</td>\n",
       "      <td>2019-12-30 16:05:12</td>\n",
       "      <td>71500.0</td>\n",
       "      <td>United States</td>\n",
       "      <td>48192</td>\n",
       "      <td>Microsoft SQL Server</td>\n",
       "      <td>2</td>\n",
       "      <td>Microsoft Access</td>\n",
       "      <td>Full time employee</td>\n",
       "      <td>Manager</td>\n",
       "      <td>...</td>\n",
       "      <td>SQL Server 2017</td>\n",
       "      <td>SQL Server 2012</td>\n",
       "      <td>300K-1M (large city)</td>\n",
       "      <td>Private business</td>\n",
       "      <td>Not Asked</td>\n",
       "      <td>Stay with the same role, but change employers</td>\n",
       "      <td>Male</td>\n",
       "      <td>Not Asked</td>\n",
       "      <td>Not Asked</td>\n",
       "      <td>1</td>\n",
       "    </tr>\n",
       "    <tr>\n",
       "      <th>146</th>\n",
       "      <td>2020</td>\n",
       "      <td>2019-12-30 16:04:47</td>\n",
       "      <td>71500.0</td>\n",
       "      <td>United States</td>\n",
       "      <td>48192</td>\n",
       "      <td>Microsoft SQL Server</td>\n",
       "      <td>2</td>\n",
       "      <td>Microsoft Access</td>\n",
       "      <td>Full time employee</td>\n",
       "      <td>Manager</td>\n",
       "      <td>...</td>\n",
       "      <td>SQL Server 2017</td>\n",
       "      <td>SQL Server 2012</td>\n",
       "      <td>300K-1M (large city)</td>\n",
       "      <td>Private business</td>\n",
       "      <td>Not Asked</td>\n",
       "      <td>Stay with the same role, but change employers</td>\n",
       "      <td>Male</td>\n",
       "      <td>Not Asked</td>\n",
       "      <td>Not Asked</td>\n",
       "      <td>1</td>\n",
       "    </tr>\n",
       "    <tr>\n",
       "      <th>170</th>\n",
       "      <td>2020</td>\n",
       "      <td>2019-12-30 14:25:49</td>\n",
       "      <td>81000.0</td>\n",
       "      <td>United States</td>\n",
       "      <td>80027</td>\n",
       "      <td>Microsoft SQL Server</td>\n",
       "      <td>3</td>\n",
       "      <td>Microsoft SQL Server, Microsoft Access, SQLite</td>\n",
       "      <td>Full time employee</td>\n",
       "      <td>Analyst</td>\n",
       "      <td>...</td>\n",
       "      <td>SQL Server 2014</td>\n",
       "      <td>SQL Server 2008</td>\n",
       "      <td>300K-1M (large city)</td>\n",
       "      <td>Private business</td>\n",
       "      <td>Not Asked</td>\n",
       "      <td>Stay with the same employer,  but change roles</td>\n",
       "      <td>Female</td>\n",
       "      <td>Not Asked</td>\n",
       "      <td>Not Asked</td>\n",
       "      <td>1</td>\n",
       "    </tr>\n",
       "    <tr>\n",
       "      <th>171</th>\n",
       "      <td>2020</td>\n",
       "      <td>2019-12-30 14:23:23</td>\n",
       "      <td>81000.0</td>\n",
       "      <td>United States</td>\n",
       "      <td>80027</td>\n",
       "      <td>Microsoft SQL Server</td>\n",
       "      <td>3</td>\n",
       "      <td>Microsoft SQL Server, Microsoft Access, SQLite</td>\n",
       "      <td>Full time employee</td>\n",
       "      <td>Analyst</td>\n",
       "      <td>...</td>\n",
       "      <td>SQL Server 2014</td>\n",
       "      <td>SQL Server 2008</td>\n",
       "      <td>300K-1M (large city)</td>\n",
       "      <td>Private business</td>\n",
       "      <td>Not Asked</td>\n",
       "      <td>Stay with the same employer,  but change roles</td>\n",
       "      <td>Female</td>\n",
       "      <td>Not Asked</td>\n",
       "      <td>Not Asked</td>\n",
       "      <td>1</td>\n",
       "    </tr>\n",
       "    <tr>\n",
       "      <th>184</th>\n",
       "      <td>2020</td>\n",
       "      <td>2019-12-30 14:01:14</td>\n",
       "      <td>60000.0</td>\n",
       "      <td>United States</td>\n",
       "      <td>32256</td>\n",
       "      <td>Microsoft SQL Server</td>\n",
       "      <td>1</td>\n",
       "      <td>Oracle, Teradata</td>\n",
       "      <td>Full time employee</td>\n",
       "      <td>DBA (General - splits time evenly between writ...</td>\n",
       "      <td>...</td>\n",
       "      <td>SQL Server 2016</td>\n",
       "      <td>SQL Server 2008</td>\n",
       "      <td>300K-1M (large city)</td>\n",
       "      <td>Private business</td>\n",
       "      <td>Not Asked</td>\n",
       "      <td>Stay with the same employer, same role</td>\n",
       "      <td>Male</td>\n",
       "      <td>Not Asked</td>\n",
       "      <td>Not Asked</td>\n",
       "      <td>1</td>\n",
       "    </tr>\n",
       "    <tr>\n",
       "      <th>185</th>\n",
       "      <td>2020</td>\n",
       "      <td>2019-12-30 14:00:29</td>\n",
       "      <td>60000.0</td>\n",
       "      <td>United States</td>\n",
       "      <td>32256</td>\n",
       "      <td>Microsoft SQL Server</td>\n",
       "      <td>1</td>\n",
       "      <td>Oracle, Teradata</td>\n",
       "      <td>Full time employee</td>\n",
       "      <td>DBA (General - splits time evenly between writ...</td>\n",
       "      <td>...</td>\n",
       "      <td>SQL Server 2016</td>\n",
       "      <td>SQL Server 2008</td>\n",
       "      <td>300K-1M (large city)</td>\n",
       "      <td>Private business</td>\n",
       "      <td>Not Asked</td>\n",
       "      <td>Stay with the same employer, same role</td>\n",
       "      <td>Male</td>\n",
       "      <td>Not Asked</td>\n",
       "      <td>Not Asked</td>\n",
       "      <td>1</td>\n",
       "    </tr>\n",
       "  </tbody>\n",
       "</table>\n",
       "<p>10 rows × 31 columns</p>\n",
       "</div>"
      ],
      "text/plain": [
       "     Survey Year           Timestamp  SalaryUSD        Country PostalCode  \\\n",
       "52          2020 2019-12-31 01:57:49   148000.0  United States      60642   \n",
       "53          2020 2019-12-31 01:57:38   148000.0  United States      60642   \n",
       "62          2020 2019-12-31 00:08:37   100000.0         Canada       None   \n",
       "64          2020 2019-12-31 00:01:44   100000.0         Canada       None   \n",
       "144         2020 2019-12-30 16:05:12    71500.0  United States      48192   \n",
       "146         2020 2019-12-30 16:04:47    71500.0  United States      48192   \n",
       "170         2020 2019-12-30 14:25:49    81000.0  United States      80027   \n",
       "171         2020 2019-12-30 14:23:23    81000.0  United States      80027   \n",
       "184         2020 2019-12-30 14:01:14    60000.0  United States      32256   \n",
       "185         2020 2019-12-30 14:00:29    60000.0  United States      32256   \n",
       "\n",
       "          PrimaryDatabase  YearsWithThisDatabase  \\\n",
       "52              Cassandra                      5   \n",
       "53              Cassandra                      5   \n",
       "62   Microsoft SQL Server                      7   \n",
       "64   Microsoft SQL Server                      7   \n",
       "144  Microsoft SQL Server                      2   \n",
       "146  Microsoft SQL Server                      2   \n",
       "170  Microsoft SQL Server                      3   \n",
       "171  Microsoft SQL Server                      3   \n",
       "184  Microsoft SQL Server                      1   \n",
       "185  Microsoft SQL Server                      1   \n",
       "\n",
       "                                     OtherDatabases    EmploymentStatus  \\\n",
       "52           PostgreSQL, Cassandra, Google BigQuery  Full time employee   \n",
       "53           PostgreSQL, Cassandra, Google BigQuery  Full time employee   \n",
       "62                                             None  Full time employee   \n",
       "64                                             None  Full time employee   \n",
       "144                                Microsoft Access  Full time employee   \n",
       "146                                Microsoft Access  Full time employee   \n",
       "170  Microsoft SQL Server, Microsoft Access, SQLite  Full time employee   \n",
       "171  Microsoft SQL Server, Microsoft Access, SQLite  Full time employee   \n",
       "184                                Oracle, Teradata  Full time employee   \n",
       "185                                Oracle, Teradata  Full time employee   \n",
       "\n",
       "                                              JobTitle  ...  \\\n",
       "52                                      Data Scientist  ...   \n",
       "53                                      Data Scientist  ...   \n",
       "62                                             Analyst  ...   \n",
       "64                                             Analyst  ...   \n",
       "144                                            Manager  ...   \n",
       "146                                            Manager  ...   \n",
       "170                                            Analyst  ...   \n",
       "171                                            Analyst  ...   \n",
       "184  DBA (General - splits time evenly between writ...  ...   \n",
       "185  DBA (General - splits time evenly between writ...  ...   \n",
       "\n",
       "    NewestVersionInProduction  OldestVersionInProduction  \\\n",
       "52    we don't use these tech    we don't use these tech   \n",
       "53    we don't use these tech    we don't use these tech   \n",
       "62            SQL Server 2014          SQL Server 2008R2   \n",
       "64            SQL Server 2014          SQL Server 2008R2   \n",
       "144           SQL Server 2017            SQL Server 2012   \n",
       "146           SQL Server 2017            SQL Server 2012   \n",
       "170           SQL Server 2014            SQL Server 2008   \n",
       "171           SQL Server 2014            SQL Server 2008   \n",
       "184           SQL Server 2016            SQL Server 2008   \n",
       "185           SQL Server 2016            SQL Server 2008   \n",
       "\n",
       "    PopulationOfLargestCityWithin20Miles  EmploymentSector  \\\n",
       "52                      1M+ (metropolis)  Private business   \n",
       "53                      1M+ (metropolis)  Private business   \n",
       "62                      1M+ (metropolis)  Private business   \n",
       "64                      1M+ (metropolis)  Private business   \n",
       "144                 300K-1M (large city)  Private business   \n",
       "146                 300K-1M (large city)  Private business   \n",
       "170                 300K-1M (large city)  Private business   \n",
       "171                 300K-1M (large city)  Private business   \n",
       "184                 300K-1M (large city)  Private business   \n",
       "185                 300K-1M (large city)  Private business   \n",
       "\n",
       "    LookingForAnotherJob                             CareerPlansThisYear  \\\n",
       "52             Not Asked  Stay with the same employer,  but change roles   \n",
       "53             Not Asked  Stay with the same employer,  but change roles   \n",
       "62             Not Asked          Stay with the same employer, same role   \n",
       "64             Not Asked          Stay with the same employer, same role   \n",
       "144            Not Asked   Stay with the same role, but change employers   \n",
       "146            Not Asked   Stay with the same role, but change employers   \n",
       "170            Not Asked  Stay with the same employer,  but change roles   \n",
       "171            Not Asked  Stay with the same employer,  but change roles   \n",
       "184            Not Asked          Stay with the same employer, same role   \n",
       "185            Not Asked          Stay with the same employer, same role   \n",
       "\n",
       "     Gender OtherJobDuties KindsOfTasksPerformed Counter  \n",
       "52   Female      Not Asked             Not Asked       1  \n",
       "53   Female      Not Asked             Not Asked       1  \n",
       "62     Male      Not Asked             Not Asked       1  \n",
       "64     Male      Not Asked             Not Asked       1  \n",
       "144    Male      Not Asked             Not Asked       1  \n",
       "146    Male      Not Asked             Not Asked       1  \n",
       "170  Female      Not Asked             Not Asked       1  \n",
       "171  Female      Not Asked             Not Asked       1  \n",
       "184    Male      Not Asked             Not Asked       1  \n",
       "185    Male      Not Asked             Not Asked       1  \n",
       "\n",
       "[10 rows x 31 columns]"
      ]
     },
     "execution_count": 35,
     "metadata": {},
     "output_type": "execute_result"
    }
   ],
   "source": [
    "duplicated_rows.head(10)"
   ]
  },
  {
   "cell_type": "code",
   "execution_count": 20,
   "metadata": {},
   "outputs": [],
   "source": [
    "df1 = df1.drop(['Timestamp'], axis=1)"
   ]
  },
  {
   "cell_type": "code",
   "execution_count": 21,
   "metadata": {},
   "outputs": [
    {
     "name": "stdout",
     "output_type": "stream",
     "text": [
      "False    8627\n",
      "dtype: int64\n"
     ]
    }
   ],
   "source": [
    "print(df1.duplicated().value_counts())"
   ]
  },
  {
   "cell_type": "markdown",
   "metadata": {},
   "source": [
    "### Tri pour sélectionner seulement les données des Etats-Unis"
   ]
  },
  {
   "cell_type": "code",
   "execution_count": 36,
   "metadata": {},
   "outputs": [
    {
     "data": {
      "text/plain": [
       "(8627, 31)"
      ]
     },
     "execution_count": 36,
     "metadata": {},
     "output_type": "execute_result"
    }
   ],
   "source": [
    "df1.shape"
   ]
  },
  {
   "cell_type": "code",
   "execution_count": 37,
   "metadata": {},
   "outputs": [],
   "source": [
    "df1 = df1.loc[df1['Country'] == 'United States',:]"
   ]
  },
  {
   "cell_type": "code",
   "execution_count": 38,
   "metadata": {},
   "outputs": [
    {
     "data": {
      "text/plain": [
       "(5680, 31)"
      ]
     },
     "execution_count": 38,
     "metadata": {},
     "output_type": "execute_result"
    }
   ],
   "source": [
    "df1.shape"
   ]
  },
  {
   "cell_type": "markdown",
   "metadata": {},
   "source": [
    "## 2 - Sélection des colonnes"
   ]
  },
  {
   "cell_type": "markdown",
   "metadata": {},
   "source": [
    "### Database 1"
   ]
  },
  {
   "cell_type": "code",
   "execution_count": 4,
   "metadata": {},
   "outputs": [
    {
     "name": "stdout",
     "output_type": "stream",
     "text": [
      "   index  Survey Year           Timestamp  SalaryUSD        Country  \\\n",
      "0      0         2020 2020-01-04 18:50:34   115000.0  United States   \n",
      "1      1         2020 2020-01-04 10:43:02   100000.0  United States   \n",
      "2      2         2020 2020-01-04 09:51:46   100000.0          Spain   \n",
      "3      3         2020 2020-01-04 01:08:54    70000.0  United States   \n",
      "4      4         2020 2020-01-03 15:28:54   110000.0  United States   \n",
      "\n",
      "  PostalCode       PrimaryDatabase  YearsWithThisDatabase  \\\n",
      "0         03  Microsoft SQL Server                     15   \n",
      "1       None                 Other                      6   \n",
      "2      28046  Microsoft SQL Server                      2   \n",
      "3      94133  Microsoft SQL Server                      3   \n",
      "4      95354                Oracle                     30   \n",
      "\n",
      "                                      OtherDatabases    EmploymentStatus  ...  \\\n",
      "0  Microsoft SQL Server, MongoDB, Azure SQL DB (a...  Full time employee  ...   \n",
      "1                                      MySQL/MariaDB  Full time employee  ...   \n",
      "2                                      MySQL/MariaDB  Full time employee  ...   \n",
      "3                                   Microsoft Access  Full time employee  ...   \n",
      "4  Microsoft SQL Server, Oracle, MySQL/MariaDB, P...  Full time employee  ...   \n",
      "\n",
      "  NewestVersionInProduction OldestVersionInProduction  \\\n",
      "0           SQL Server 2019           SQL Server 2016   \n",
      "1                  informix                  informix   \n",
      "2           SQL Server 2017           SQL Server 2017   \n",
      "3           SQL Server 2016           SQL Server 2012   \n",
      "4           SQL Server 2016         SQL Server 2008R2   \n",
      "\n",
      "   PopulationOfLargestCityWithin20Miles  EmploymentSector  \\\n",
      "0                  20K-99K (large town)  Private business   \n",
      "1                      1M+ (metropolis)  Private business   \n",
      "2                      1M+ (metropolis)  Private business   \n",
      "3                      1M+ (metropolis)  Private business   \n",
      "4                      100K-299K (city)        Non-profit   \n",
      "\n",
      "  LookingForAnotherJob                     CareerPlansThisYear  Gender  \\\n",
      "0            Not Asked  Stay with the same employer, same role    Male   \n",
      "1            Not Asked                       Prefer not to say    Male   \n",
      "2            Not Asked  Stay with the same employer, same role    Male   \n",
      "3            Not Asked         Change both employers and roles    Male   \n",
      "4            Not Asked  Stay with the same employer, same role    Male   \n",
      "\n",
      "  OtherJobDuties KindsOfTasksPerformed Counter  \n",
      "0      Not Asked             Not Asked       1  \n",
      "1      Not Asked             Not Asked       1  \n",
      "2      Not Asked             Not Asked       1  \n",
      "3      Not Asked             Not Asked       1  \n",
      "4      Not Asked             Not Asked       1  \n",
      "\n",
      "[5 rows x 32 columns]\n"
     ]
    },
    {
     "data": {
      "text/plain": [
       "(8627, 32)"
      ]
     },
     "execution_count": 4,
     "metadata": {},
     "output_type": "execute_result"
    }
   ],
   "source": [
    "print(df1.head())\n",
    "df1.shape"
   ]
  },
  {
   "cell_type": "code",
   "execution_count": 5,
   "metadata": {},
   "outputs": [
    {
     "name": "stdout",
     "output_type": "stream",
     "text": [
      "Index(['index', 'Survey Year', 'Timestamp', 'SalaryUSD', 'Country',\n",
      "       'PostalCode', 'PrimaryDatabase', 'YearsWithThisDatabase',\n",
      "       'OtherDatabases', 'EmploymentStatus', 'JobTitle', 'ManageStaff',\n",
      "       'YearsWithThisTypeOfJob', 'HowManyCompanies', 'OtherPeopleOnYourTeam',\n",
      "       'CompanyEmployeesOverall', 'DatabaseServers', 'Education',\n",
      "       'EducationIsComputerRelated', 'Certifications', 'HoursWorkedPerWeek',\n",
      "       'TelecommuteDaysPerWeek', 'NewestVersionInProduction',\n",
      "       'OldestVersionInProduction', 'PopulationOfLargestCityWithin20Miles',\n",
      "       'EmploymentSector', 'LookingForAnotherJob', 'CareerPlansThisYear',\n",
      "       'Gender', 'OtherJobDuties', 'KindsOfTasksPerformed', 'Counter'],\n",
      "      dtype='object')\n"
     ]
    }
   ],
   "source": [
    "print(df1.columns)"
   ]
  },
  {
   "cell_type": "markdown",
   "metadata": {},
   "source": [
    "J'ai choisi les colonnes qui me semblaient utiles pour la visualisation des données."
   ]
  },
  {
   "cell_type": "code",
   "execution_count": 39,
   "metadata": {},
   "outputs": [],
   "source": [
    "df1=df1[['SalaryUSD', 'Country', 'PostalCode', 'EmploymentStatus', 'JobTitle', 'ManageStaff', 'YearsWithThisTypeOfJob', 'HowManyCompanies', 'OtherPeopleOnYourTeam', 'CompanyEmployeesOverall', 'EmploymentSector', 'LookingForAnotherJob', 'CareerPlansThisYear', 'Gender']]"
   ]
  },
  {
   "cell_type": "markdown",
   "metadata": {},
   "source": [
    "### Database 2"
   ]
  },
  {
   "cell_type": "code",
   "execution_count": 68,
   "metadata": {},
   "outputs": [
    {
     "name": "stdout",
     "output_type": "stream",
     "text": [
      "   index  Unnamed: 0                                          Job Title  \\\n",
      "0      0           0  Data Analyst, Center on Immigration and Justic...   \n",
      "1      1           1                               Quality Data Analyst   \n",
      "2      2           2  Senior Data Analyst, Insights & Analytics Team...   \n",
      "3      3           3                                       Data Analyst   \n",
      "4      4           4                             Reporting Data Analyst   \n",
      "\n",
      "              Salary Estimate  \\\n",
      "0  $37K-$66K (Glassdoor est.)   \n",
      "1  $37K-$66K (Glassdoor est.)   \n",
      "2  $37K-$66K (Glassdoor est.)   \n",
      "3  $37K-$66K (Glassdoor est.)   \n",
      "4  $37K-$66K (Glassdoor est.)   \n",
      "\n",
      "                                     Job Description  Rating  \\\n",
      "0  Are you eager to roll up your sleeves and harn...     3.2   \n",
      "1  Overview\\n\\nProvides analytical and technical ...     3.8   \n",
      "2  We’re looking for a Senior Data Analyst who ha...     3.4   \n",
      "3  Requisition NumberRR-0001939\\nRemote:Yes\\nWe c...     4.1   \n",
      "4  ABOUT FANDUEL GROUP\\n\\nFanDuel Group is a worl...     3.9   \n",
      "\n",
      "                              Company Name      Location  Headquarters  \\\n",
      "0           Vera Institute of Justice\\n3.2  New York, NY  New York, NY   \n",
      "1  Visiting Nurse Service of New York\\n3.8  New York, NY  New York, NY   \n",
      "2                         Squarespace\\n3.4  New York, NY  New York, NY   \n",
      "3                            Celerity\\n4.1  New York, NY    McLean, VA   \n",
      "4                             FanDuel\\n3.9  New York, NY  New York, NY   \n",
      "\n",
      "                     Size  Founded               Type of ownership  \\\n",
      "0    201 to 500 employees     1961          Nonprofit Organization   \n",
      "1        10000+ employees     1893          Nonprofit Organization   \n",
      "2  1001 to 5000 employees     2003               Company - Private   \n",
      "3    201 to 500 employees     2002  Subsidiary or Business Segment   \n",
      "4   501 to 1000 employees     2009               Company - Private   \n",
      "\n",
      "                           Industry                            Sector  \\\n",
      "0                 Social Assistance                        Non-Profit   \n",
      "1  Health Care Services & Hospitals                       Health Care   \n",
      "2                          Internet            Information Technology   \n",
      "3                       IT Services            Information Technology   \n",
      "4               Sports & Recreation  Arts, Entertainment & Recreation   \n",
      "\n",
      "                      Revenue Competitors Easy Apply  \n",
      "0  $100 to $500 million (USD)          -1       True  \n",
      "1      $2 to $5 billion (USD)          -1         -1  \n",
      "2    Unknown / Non-Applicable     GoDaddy         -1  \n",
      "3   $50 to $100 million (USD)          -1         -1  \n",
      "4  $100 to $500 million (USD)  DraftKings       True  \n"
     ]
    },
    {
     "data": {
      "text/plain": [
       "(2253, 17)"
      ]
     },
     "execution_count": 68,
     "metadata": {},
     "output_type": "execute_result"
    }
   ],
   "source": [
    "print(dfk.head())\n",
    "dfk.shape"
   ]
  },
  {
   "cell_type": "code",
   "execution_count": 69,
   "metadata": {},
   "outputs": [
    {
     "name": "stdout",
     "output_type": "stream",
     "text": [
      "Index(['index', 'Unnamed: 0', 'Job Title', 'Salary Estimate',\n",
      "       'Job Description', 'Rating', 'Company Name', 'Location', 'Headquarters',\n",
      "       'Size', 'Founded', 'Type of ownership', 'Industry', 'Sector', 'Revenue',\n",
      "       'Competitors', 'Easy Apply'],\n",
      "      dtype='object')\n"
     ]
    }
   ],
   "source": [
    "print(dfk.columns)"
   ]
  },
  {
   "cell_type": "markdown",
   "metadata": {},
   "source": [
    "J'ai ensuite choisi les colonnes qui semblaient utiles pour la suite."
   ]
  },
  {
   "cell_type": "code",
   "execution_count": 70,
   "metadata": {},
   "outputs": [],
   "source": [
    "dfk=dfk[['Job Title', 'Salary Estimate', 'Company Name', 'Location', 'Size', 'Sector']]"
   ]
  },
  {
   "cell_type": "markdown",
   "metadata": {},
   "source": [
    "## 3 - Valeurs manquantes"
   ]
  },
  {
   "cell_type": "markdown",
   "metadata": {},
   "source": [
    "### Database 1"
   ]
  },
  {
   "cell_type": "code",
   "execution_count": 54,
   "metadata": {},
   "outputs": [
    {
     "name": "stdout",
     "output_type": "stream",
     "text": [
      "SalaryUSD                     0\n",
      "Country                       0\n",
      "PostalCode                 1390\n",
      "EmploymentStatus              0\n",
      "JobTitle                      0\n",
      "ManageStaff                   0\n",
      "YearsWithThisTypeOfJob        0\n",
      "HowManyCompanies              0\n",
      "OtherPeopleOnYourTeam         0\n",
      "CompanyEmployeesOverall       0\n",
      "EmploymentSector              0\n",
      "LookingForAnotherJob          0\n",
      "CareerPlansThisYear           0\n",
      "Gender                        0\n",
      "dtype: int64\n"
     ]
    }
   ],
   "source": [
    "missing_values_count = df1.isnull().sum()\n",
    "print(missing_values_count)"
   ]
  },
  {
   "cell_type": "markdown",
   "metadata": {},
   "source": [
    "Il manque 1390 valeurs pour PostalCode. On ne peut pas assigner de valeur de code postal arbitraire dans cette colonne. Je garde donc les lignes où les valeurs sont manquantes, mais je garde en mémoire qu'il manque des valeurs si je travaille sur les codes postaux."
   ]
  },
  {
   "cell_type": "markdown",
   "metadata": {},
   "source": [
    "### Database 2"
   ]
  },
  {
   "cell_type": "code",
   "execution_count": 71,
   "metadata": {},
   "outputs": [
    {
     "name": "stdout",
     "output_type": "stream",
     "text": [
      "Job Title          0\n",
      "Salary Estimate    0\n",
      "Company Name       1\n",
      "Location           0\n",
      "Size               0\n",
      "Sector             0\n",
      "dtype: int64\n"
     ]
    }
   ],
   "source": [
    "print(dfk.isnull().sum())"
   ]
  },
  {
   "cell_type": "markdown",
   "metadata": {},
   "source": [
    "Il y a une seule valeur manquante pour 'Company Name'.\n",
    "J'ai choisi de la remplacer par 'Unknown'"
   ]
  },
  {
   "cell_type": "code",
   "execution_count": 74,
   "metadata": {},
   "outputs": [],
   "source": [
    "dfk.loc[dfk['Company Name'].isnull(), \"Company Name\"] = \"Unknown\""
   ]
  },
  {
   "cell_type": "code",
   "execution_count": 75,
   "metadata": {},
   "outputs": [
    {
     "name": "stdout",
     "output_type": "stream",
     "text": [
      "Job Title          0\n",
      "Salary Estimate    0\n",
      "Company Name       0\n",
      "Location           0\n",
      "Size               0\n",
      "Sector             0\n",
      "dtype: int64\n"
     ]
    }
   ],
   "source": [
    "print(dfk.isnull().sum())"
   ]
  },
  {
   "cell_type": "markdown",
   "metadata": {},
   "source": [
    "## 4 - Colonnes à transformer en datetime"
   ]
  },
  {
   "cell_type": "markdown",
   "metadata": {},
   "source": [
    "### Database 1"
   ]
  },
  {
   "cell_type": "code",
   "execution_count": 55,
   "metadata": {},
   "outputs": [
    {
     "name": "stdout",
     "output_type": "stream",
     "text": [
      "SalaryUSD                  float64\n",
      "Country                     object\n",
      "PostalCode                  object\n",
      "EmploymentStatus            object\n",
      "JobTitle                    object\n",
      "ManageStaff                 object\n",
      "YearsWithThisTypeOfJob       int64\n",
      "HowManyCompanies            object\n",
      "OtherPeopleOnYourTeam       object\n",
      "CompanyEmployeesOverall     object\n",
      "EmploymentSector            object\n",
      "LookingForAnotherJob        object\n",
      "CareerPlansThisYear         object\n",
      "Gender                      object\n",
      "dtype: object\n"
     ]
    }
   ],
   "source": [
    "print(df1.dtypes)"
   ]
  },
  {
   "cell_type": "markdown",
   "metadata": {},
   "source": [
    "Aucune de mes colonnes ne correspond à une date."
   ]
  },
  {
   "cell_type": "markdown",
   "metadata": {},
   "source": [
    "### Database 2"
   ]
  },
  {
   "cell_type": "code",
   "execution_count": 76,
   "metadata": {},
   "outputs": [
    {
     "name": "stdout",
     "output_type": "stream",
     "text": [
      "Job Title          object\n",
      "Salary Estimate    object\n",
      "Company Name       object\n",
      "Location           object\n",
      "Size               object\n",
      "Sector             object\n",
      "dtype: object\n"
     ]
    }
   ],
   "source": [
    "print(dfk.dtypes)"
   ]
  },
  {
   "cell_type": "markdown",
   "metadata": {},
   "source": [
    "Aucune de mes colonnes ne correspond à une date."
   ]
  },
  {
   "cell_type": "markdown",
   "metadata": {},
   "source": [
    "## 5 - Doublons"
   ]
  },
  {
   "cell_type": "markdown",
   "metadata": {},
   "source": [
    "### Database 1"
   ]
  },
  {
   "cell_type": "markdown",
   "metadata": {},
   "source": [
    "Fait plus haut"
   ]
  },
  {
   "cell_type": "code",
   "execution_count": 70,
   "metadata": {},
   "outputs": [
    {
     "name": "stdout",
     "output_type": "stream",
     "text": [
      "(5680, 14)\n"
     ]
    }
   ],
   "source": [
    "print(df1.shape)"
   ]
  },
  {
   "cell_type": "markdown",
   "metadata": {},
   "source": [
    "### Database 2"
   ]
  },
  {
   "cell_type": "code",
   "execution_count": 77,
   "metadata": {},
   "outputs": [
    {
     "name": "stdout",
     "output_type": "stream",
     "text": [
      "False    2253\n",
      "dtype: int64\n"
     ]
    }
   ],
   "source": [
    "print(dfk.duplicated().value_counts())"
   ]
  },
  {
   "cell_type": "markdown",
   "metadata": {},
   "source": [
    "Cette database ne semble pas avoir de doublons."
   ]
  },
  {
   "cell_type": "markdown",
   "metadata": {},
   "source": [
    "## 6 - Vérifier la consistence des données"
   ]
  },
  {
   "cell_type": "markdown",
   "metadata": {},
   "source": [
    "### Database 1"
   ]
  },
  {
   "cell_type": "markdown",
   "metadata": {},
   "source": [
    "#### get all the unique values in the 'JobTitle' column"
   ]
  },
  {
   "cell_type": "code",
   "execution_count": 40,
   "metadata": {},
   "outputs": [
    {
     "name": "stdout",
     "output_type": "stream",
     "text": [
      "21\n"
     ]
    }
   ],
   "source": [
    "job_titles = df1['JobTitle'].unique()\n",
    "print(len(job_titles))"
   ]
  },
  {
   "cell_type": "code",
   "execution_count": 41,
   "metadata": {},
   "outputs": [
    {
     "name": "stdout",
     "output_type": "stream",
     "text": [
      "['Analyst' 'Analytics consultant' 'Architect' 'Consultant' 'DBA'\n",
      " 'DBA (Development Focus - tunes queries, indexes, does deployments)'\n",
      " 'DBA (General - splits time evenly between writing & tuning queries AND building & troubleshooting servers)'\n",
      " 'DBA (Production Focus - build & troubleshoot servers, HA/DR)'\n",
      " 'Data Scientist' 'Database Specialist' 'DevOps, Sr Software Engineer DBA'\n",
      " 'Developer: App code (C#, JS, etc)'\n",
      " 'Developer: Business Intelligence (SSRS, PowerBI, etc)'\n",
      " 'Developer: T-SQL' 'Engineer' 'Manager' 'Other'\n",
      " 'Principal database engineer' 'Sr Consultant ' 'Systems Administrator'\n",
      " 'Technician ']\n"
     ]
    }
   ],
   "source": [
    "job_titles.sort()\n",
    "print(job_titles)"
   ]
  },
  {
   "cell_type": "markdown",
   "metadata": {},
   "source": [
    "Il y a 21 job titles différents."
   ]
  },
  {
   "cell_type": "markdown",
   "metadata": {},
   "source": [
    "### Modifications : regrouper les catégories de Job Title"
   ]
  },
  {
   "cell_type": "code",
   "execution_count": 43,
   "metadata": {},
   "outputs": [],
   "source": [
    "df1[\"JobTitle\"] = df1[\"JobTitle\"].apply(\n",
    "    lambda x: \"Database Admin\" if x.startswith('DBA') else x\n",
    ")"
   ]
  },
  {
   "cell_type": "code",
   "execution_count": 49,
   "metadata": {},
   "outputs": [],
   "source": [
    "df1[\"JobTitle\"] = df1[\"JobTitle\"].apply(\n",
    "    lambda x: \"Developer\" if x.startswith('Developer') else x\n",
    ")"
   ]
  },
  {
   "cell_type": "code",
   "execution_count": 55,
   "metadata": {},
   "outputs": [
    {
     "name": "stdout",
     "output_type": "stream",
     "text": [
      "16\n"
     ]
    }
   ],
   "source": [
    "job_titles = df1['JobTitle'].unique()\n",
    "print(len(job_titles))"
   ]
  },
  {
   "cell_type": "code",
   "execution_count": 56,
   "metadata": {
    "scrolled": true
   },
   "outputs": [
    {
     "name": "stdout",
     "output_type": "stream",
     "text": [
      "['Analyst' 'Analytics consultant' 'Architect' 'Consultant'\n",
      " 'Data Scientist' 'Database Admin' 'Database Specialist'\n",
      " 'DevOps, Sr Software Engineer DBA' 'Developer' 'Engineer' 'Manager'\n",
      " 'Other' 'Principal database engineer' 'Sr Consultant '\n",
      " 'Systems Administrator' 'Technician ']\n"
     ]
    }
   ],
   "source": [
    "job_titles.sort()\n",
    "print(job_titles)"
   ]
  },
  {
   "cell_type": "code",
   "execution_count": 57,
   "metadata": {},
   "outputs": [],
   "source": [
    "s = df1[\"JobTitle\"].value_counts()\n",
    "df1.loc[df1[\"JobTitle\"].isin(s[(s < 5)].index), \"JobTitle\"] = \"Other\""
   ]
  },
  {
   "cell_type": "code",
   "execution_count": 58,
   "metadata": {},
   "outputs": [
    {
     "name": "stdout",
     "output_type": "stream",
     "text": [
      "8\n"
     ]
    }
   ],
   "source": [
    "job_titles = df1['JobTitle'].unique()\n",
    "print(len(job_titles))"
   ]
  },
  {
   "cell_type": "code",
   "execution_count": 59,
   "metadata": {},
   "outputs": [
    {
     "name": "stdout",
     "output_type": "stream",
     "text": [
      "['Analyst' 'Architect' 'Data Scientist' 'Database Admin' 'Developer'\n",
      " 'Engineer' 'Manager' 'Other']\n"
     ]
    }
   ],
   "source": [
    "job_titles.sort()\n",
    "print(job_titles)"
   ]
  },
  {
   "cell_type": "markdown",
   "metadata": {},
   "source": [
    "#### get all the unique values in 'HowManyCompanies' column"
   ]
  },
  {
   "cell_type": "code",
   "execution_count": 65,
   "metadata": {},
   "outputs": [
    {
     "name": "stdout",
     "output_type": "stream",
     "text": [
      "7\n"
     ]
    }
   ],
   "source": [
    "nb_companies = df1['HowManyCompanies'].unique()\n",
    "print(len(nb_companies))"
   ]
  },
  {
   "cell_type": "code",
   "execution_count": 66,
   "metadata": {},
   "outputs": [
    {
     "name": "stdout",
     "output_type": "stream",
     "text": [
      "[\"1 (this is the only company where I've had this kind of position)\"\n",
      " '2 (I worked at another similar position elsewhere before this one)' '3'\n",
      " '4' '5' '6 or more' 'Not Asked']\n"
     ]
    }
   ],
   "source": [
    "nb_companies.sort()\n",
    "print(nb_companies)"
   ]
  },
  {
   "cell_type": "code",
   "execution_count": 67,
   "metadata": {},
   "outputs": [],
   "source": [
    "df1[\"HowManyCompanies\"] = df1[\"HowManyCompanies\"].apply(\n",
    "    lambda x: \"1\" if str(x).startswith('1') else \"2\" if str(x).startswith('2') else x\n",
    ")"
   ]
  },
  {
   "cell_type": "code",
   "execution_count": 68,
   "metadata": {},
   "outputs": [
    {
     "name": "stdout",
     "output_type": "stream",
     "text": [
      "7\n"
     ]
    }
   ],
   "source": [
    "nb_companies = df1['HowManyCompanies'].unique()\n",
    "print(len(nb_companies))"
   ]
  },
  {
   "cell_type": "code",
   "execution_count": 69,
   "metadata": {},
   "outputs": [
    {
     "name": "stdout",
     "output_type": "stream",
     "text": [
      "['1' '2' '3' '4' '5' '6 or more' 'Not Asked']\n"
     ]
    }
   ],
   "source": [
    "nb_companies.sort()\n",
    "print(nb_companies)"
   ]
  },
  {
   "cell_type": "markdown",
   "metadata": {},
   "source": [
    "Les valeurs pour HowManyCompanies sont classées dans 7 catégories. Il n'y a pas de catégorie redondante. "
   ]
  },
  {
   "cell_type": "markdown",
   "metadata": {},
   "source": [
    "#### get all the unique values in the 'OtherPeopleOnYourTeam' column"
   ]
  },
  {
   "cell_type": "code",
   "execution_count": 20,
   "metadata": {},
   "outputs": [
    {
     "name": "stdout",
     "output_type": "stream",
     "text": [
      "7\n"
     ]
    }
   ],
   "source": [
    "team = df1['OtherPeopleOnYourTeam'].unique()\n",
    "print(len(team))"
   ]
  },
  {
   "cell_type": "code",
   "execution_count": 23,
   "metadata": {},
   "outputs": [
    {
     "name": "stdout",
     "output_type": "stream",
     "text": [
      "['1' '2' '3' '4' '5' 'More than 5' 'None']\n"
     ]
    }
   ],
   "source": [
    "team.sort()\n",
    "print(team)"
   ]
  },
  {
   "cell_type": "markdown",
   "metadata": {},
   "source": [
    "Les valeurs pour OtherPeopleOnYourTeam sont classées dans 7 catégories. Il n'y a pas de catégorie redondante. "
   ]
  },
  {
   "cell_type": "markdown",
   "metadata": {},
   "source": [
    "#### get all the unique values in the 'Gender' column"
   ]
  },
  {
   "cell_type": "code",
   "execution_count": 71,
   "metadata": {},
   "outputs": [
    {
     "name": "stdout",
     "output_type": "stream",
     "text": [
      "20\n"
     ]
    }
   ],
   "source": [
    "genders = df1['Gender'].unique()\n",
    "print(len(genders))"
   ]
  },
  {
   "cell_type": "markdown",
   "metadata": {},
   "source": [
    "Il semble y avoir beaucoup de réponses différentes dans la colonne 'Gender"
   ]
  },
  {
   "cell_type": "code",
   "execution_count": 72,
   "metadata": {},
   "outputs": [
    {
     "name": "stdout",
     "output_type": "stream",
     "text": [
      "['Alien' 'Any human one' 'Attack Helicopter'\n",
      " 'Attack Helicopter. (serious dude, gender questions?)'\n",
      " 'Attack helicopter' 'Cyborg' 'Dragon' 'Female' 'I am Batman' 'Male'\n",
      " 'Meat Popsicle ' 'Non-binary/third gender' 'Not Asked'\n",
      " 'Prefer not to say' 'This question is inappropriate. ' 'Vulcan'\n",
      " 'confused' 'human  This is also my race.' 'mosquito ' 'toad frog']\n"
     ]
    }
   ],
   "source": [
    "genders.sort()\n",
    "print(genders)"
   ]
  },
  {
   "cell_type": "code",
   "execution_count": 73,
   "metadata": {},
   "outputs": [
    {
     "name": "stdout",
     "output_type": "stream",
     "text": [
      "Male                                                    3281\n",
      "Not Asked                                               1879\n",
      "Female                                                   457\n",
      "Prefer not to say                                         39\n",
      "Non-binary/third gender                                    9\n",
      "Attack Helicopter                                          1\n",
      "Meat Popsicle                                              1\n",
      "Dragon                                                     1\n",
      "toad frog                                                  1\n",
      "Alien                                                      1\n",
      "I am Batman                                                1\n",
      "Attack helicopter                                          1\n",
      "Cyborg                                                     1\n",
      "mosquito                                                   1\n",
      "human  This is also my race.                               1\n",
      "Any human one                                              1\n",
      "This question is inappropriate.                            1\n",
      "Vulcan                                                     1\n",
      "confused                                                   1\n",
      "Attack Helicopter. (serious dude, gender questions?)       1\n",
      "Name: Gender, dtype: int64\n"
     ]
    }
   ],
   "source": [
    "print(df1['Gender'].value_counts())"
   ]
  },
  {
   "cell_type": "markdown",
   "metadata": {},
   "source": [
    "Sur la totalité des réponses dans la colonne Genre, on préférerait pouvoir les classer en 5 catégories : Male, Female, Non-binary/third gender, Prefer not to say et Not Asked.\n",
    "Il y a donc 29 réponses à modifier."
   ]
  },
  {
   "cell_type": "code",
   "execution_count": 74,
   "metadata": {},
   "outputs": [],
   "source": [
    "valid_genders = [\"Male\", \"Female\", \"Not Asked\", \"Prefer not to say\", \"Non-binary/third gender\"]\n",
    "df1.loc[~df1['Gender'].isin(valid_genders), \"Gender\"] = \"other\""
   ]
  },
  {
   "cell_type": "code",
   "execution_count": 75,
   "metadata": {},
   "outputs": [
    {
     "name": "stdout",
     "output_type": "stream",
     "text": [
      "Male                       3281\n",
      "Not Asked                  1879\n",
      "Female                      457\n",
      "Prefer not to say            39\n",
      "other                        15\n",
      "Non-binary/third gender       9\n",
      "Name: Gender, dtype: int64\n"
     ]
    }
   ],
   "source": [
    "print(df1['Gender'].value_counts())"
   ]
  },
  {
   "cell_type": "markdown",
   "metadata": {},
   "source": [
    "### Database 2"
   ]
  },
  {
   "cell_type": "code",
   "execution_count": 79,
   "metadata": {},
   "outputs": [
    {
     "name": "stdout",
     "output_type": "stream",
     "text": [
      "1272\n"
     ]
    }
   ],
   "source": [
    "titles = dfk['Job Title'].unique()\n",
    "print(len(titles))"
   ]
  },
  {
   "cell_type": "code",
   "execution_count": 80,
   "metadata": {},
   "outputs": [
    {
     "name": "stdout",
     "output_type": "stream",
     "text": [
      "90\n"
     ]
    }
   ],
   "source": [
    "print(len(dfk['Salary Estimate'].unique()))"
   ]
  },
  {
   "cell_type": "markdown",
   "metadata": {},
   "source": [
    "## 7 - Recherche de valeurs aberrantes"
   ]
  },
  {
   "cell_type": "markdown",
   "metadata": {},
   "source": [
    "### Database 1"
   ]
  },
  {
   "cell_type": "code",
   "execution_count": 63,
   "metadata": {},
   "outputs": [
    {
     "data": {
      "text/plain": [
       "<AxesSubplot:xlabel='SalaryUSD'>"
      ]
     },
     "execution_count": 63,
     "metadata": {},
     "output_type": "execute_result"
    },
    {
     "data": {
      "image/png": "[encoded data removed]",
      "text/plain": [
       "<Figure size 432x288 with 1 Axes>"
      ]
     },
     "metadata": {
      "needs_background": "light"
     },
     "output_type": "display_data"
    }
   ],
   "source": [
    "import seaborn as sns\n",
    "sns.boxenplot(x = df1[\"SalaryUSD\"])"
   ]
  },
  {
   "cell_type": "code",
   "execution_count": 64,
   "metadata": {},
   "outputs": [
    {
     "data": {
      "text/plain": [
       "<AxesSubplot:xlabel='YearsWithThisTypeOfJob'>"
      ]
     },
     "execution_count": 64,
     "metadata": {},
     "output_type": "execute_result"
    },
    {
     "data": {
      "image/png": "[encoded data removed]",
      "text/plain": [
       "<Figure size 432x288 with 1 Axes>"
      ]
     },
     "metadata": {
      "needs_background": "light"
     },
     "output_type": "display_data"
    }
   ],
   "source": [
    "sns.boxenplot(x = df1[\"YearsWithThisTypeOfJob\"])"
   ]
  },
  {
   "cell_type": "markdown",
   "metadata": {},
   "source": [
    "### Database 2"
   ]
  },
  {
   "cell_type": "code",
   "execution_count": null,
   "metadata": {},
   "outputs": [],
   "source": []
  },
  {
   "cell_type": "markdown",
   "metadata": {},
   "source": [
    "### Sauvegarde des databases dans mysql"
   ]
  },
  {
   "cell_type": "code",
   "execution_count": 66,
   "metadata": {},
   "outputs": [],
   "source": [
    "save_to_mysql(db_connect=connect,df_to_save=df1,df_name='survey_1_v1.0')"
   ]
  },
  {
   "cell_type": "code",
   "execution_count": 76,
   "metadata": {},
   "outputs": [],
   "source": [
    "save_to_mysql(db_connect=connect,df_to_save=df1,df_name='survey_1_v2.0')"
   ]
  },
  {
   "cell_type": "code",
   "execution_count": null,
   "metadata": {},
   "outputs": [],
   "source": []
  }
 ],
 "metadata": {
  "kernelspec": {
   "display_name": "Python 3",
   "language": "python",
   "name": "python3"
  },
  "language_info": {
   "codemirror_mode": {
    "name": "ipython",
    "version": 3
   },
   "file_extension": ".py",
   "mimetype": "text/x-python",
   "name": "python",
   "nbconvert_exporter": "python",
   "pygments_lexer": "ipython3",
   "version": "3.8.5"
  }
 },
 "nbformat": 4,
 "nbformat_minor": 4
}
